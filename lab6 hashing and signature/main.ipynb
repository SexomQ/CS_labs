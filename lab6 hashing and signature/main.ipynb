{
 "cells": [
  {
   "cell_type": "code",
   "execution_count": 51,
   "metadata": {},
   "outputs": [],
   "source": [
    "import gmpy2\n",
    "from gmpy2 import mpz, isqrt, next_prime\n",
    "import random\n",
    "\n",
    "def generate_large_prime(num_digits):\n",
    "    lower_bound = mpz(10 ** (num_digits - 1))\n",
    "    upper_bound = mpz(10 ** num_digits) - 1\n",
    "    start = gmpy2.mpz_random(gmpy2.random_state(), upper_bound - lower_bound) + lower_bound\n",
    "    return next_prime(start)\n",
    "\n",
    "# rsa algorithm\n",
    "def generate_keypair(p, q):\n",
    "    n = mpz(p) * mpz(q)\n",
    "    print(len(str(n)))\n",
    "    phi = (mpz(p)-1) * (mpz(q)-1)\n",
    "\n",
    "    # Choose e\n",
    "    e = mpz(random.randint(2, phi-1))\n",
    "    while gmpy2.gcd(e, phi) != 1:\n",
    "        e = mpz(random.randint(2, phi-1))\n",
    "\n",
    "    # Compute d\n",
    "    d = gmpy2.invert(e, phi)\n",
    "\n",
    "    return ((e, n), (d, n))\n",
    "\n",
    "def encrypt_rsa(pk, plaintext):\n",
    "    e, n = pk\n",
    "    return gmpy2.powmod(plaintext, e, n) \n",
    "\n",
    "def decrypt_rsa(pk, ciphertext):\n",
    "    d, n = pk\n",
    "    return gmpy2.powmod(ciphertext, d, n)\n",
    "\n",
    "def sign_message_rsa(pr_key, message_hash):\n",
    "    return (message_hash, decrypt_rsa(pr_key, message_hash))\n",
    "\n",
    "def verify_signature_rsa(pub_key, message_hash, signature):\n",
    "    message_hash = signature[0]\n",
    "    sign = signature[1]\n",
    "    return encrypt_rsa(pub_key, sign) == message_hash\n",
    "\n",
    "\n",
    "def generate_key(p, g):\n",
    "    # ElGamal algorithm\n",
    "    pr_key = random.randint(2, p - 2)\n",
    "    pub_key = mpz(gmpy2.powmod(g, pr_key, p))\n",
    "\n",
    "    return pub_key, pr_key\n",
    "\n",
    "def sign_message_elgamal(pr_key, message_hash, p, g):\n",
    "    k = random.randint(2, p - 2)\n",
    "    while gmpy2.gcd(k, p-1) != 1:\n",
    "        k = mpz(random.randint(2, p-2))\n",
    "    s1 = mpz(gmpy2.powmod(g, k, p))\n",
    "    s2 = ((mpz(message_hash) - mpz(pr_key) * s1) * gmpy2.invert(k, p - 1)) % (p - 1)\n",
    "    return (s1, s2)\n",
    "\n",
    "def verify_signature_elgamal(pub_key, message_hash, signature, p, g):\n",
    "    s1 = signature[0]\n",
    "    s2 = signature[1]\n",
    "    return (gmpy2.powmod(pub_key, s1, p) * gmpy2.powmod(s1, s2, p)) % p == gmpy2.powmod(g, message_hash, p)"
   ]
  },
  {
   "cell_type": "code",
   "execution_count": 52,
   "metadata": {},
   "outputs": [
    {
     "name": "stdout",
     "output_type": "stream",
     "text": [
      "663485503982840051637239612240183093741272987865474745753491976355304207718033936544739761170777927666998940911679259840350353365134349779738957185731029393345019612939760827904872443318757104549181822675256777150700020622325405236247783308691696793432979178237760318731271427147694114833743146994151057652100361571071222615936856316096109309457207713148783198680097140781911542083056203288112295402206839273857211274089281476706287632479013835458752504632589534007459069740696133685969463\n",
      "823929437732423386360736503572888686656995068848010526081479034811202588378297658426433768295863644412719529139545592991606024508943104229244988936581636358998909751027595538072681731679432627088404396000865137726688269650510390641412124414452502298256525785626556757678078656322950720023079995599317867629549199023743304251320386562570590624959556023494177576733578580744171679440074996567193887547708079156854880007678877802535204990865199267284393\n"
     ]
    }
   ],
   "source": [
    "print(generate_large_prime(489))\n",
    "print(generate_large_prime(450))"
   ]
  },
  {
   "cell_type": "code",
   "execution_count": null,
   "metadata": {},
   "outputs": [],
   "source": []
  },
  {
   "cell_type": "code",
   "execution_count": 53,
   "metadata": {},
   "outputs": [],
   "source": [
    "message = '''yardley's appropriation had been severely cut in 1924, and half thestaff had to be let go, reducing the force to about a dozen. despite this,yardley said, the black chamber managed to solve, from 1917 to 1929,more than 45,000 telegrams, involving the codes of argentina,brazil,chile, china, costa rica, cuba, england, france, germany, japan,liberia, mexico, nicaragua,panama, peru, san salvador, santo domingo(later the dominican republic) the soviet union, and spain and madepreliminary analyses of many other codes, including those of the vatican.suddenly it all ended. yardley, who had been obtaining the codetelegrams of foreign governments through the cooperation of thepresidents of the western union telegraph company and the postaltelegraph company, was encountering increasing resistance from them.herbert hoover had just been inaugurated, and yardley resolved to settle the matter with the newadministration once and for all. hedecided on the bold stroke of drawing up \"a memorandum to bepresented directly to the president, outlining the history and activities ofthe black chamber, and the necessary steps that must be taken if thegovernment had hoped to take full advantage of the skill of itscryptographers.\" he waited to see which way the wind was blowing beforemaking his move—and found that it was not with him. yardley went to aspeakeasy to listen to hoover's first speech as president and sensed, inthe high ethical strictures that hoover expressed, the doom of the blackchamber.he was right, though its actual closing came from elsewhere. afterhenry l. stimson, hoover's secretary of state, had been in office the fewmonths that yardley thought would be necessary for him to have lostsome of his innocence in wrestling with the hardheaded realities ofdiplomacy, the black chamber sent him the solution of an importantseries of messages. but stimson was different from previous secretariesof state, on whom this tactic had always worked. he was shocked tolearn of the existence of the black chamber, and totally disapproved of it.he regarded it as a low, snooping activity, a sneaking, spying, keyhole-peering kind of dirty business, a violation of the principle of mutual trustupon which he conducted both his personal affairs and his foreignpolicy. all of this it is, and stimson rejected the view that such meansjustified even patriotic ends. he held to the conviction that his countryshould do what is right, and, as he said later, \"gentlemen do not readeach other's mail.\" in an act of pure moral courage, stimson, affirmingprinciple over expediency, withdrew all state department funds from thesupport of the black chamber.* since these constituted its majorincome, their loss shuttered the office. hoover's speech had warnedyardley that an appeal would be fruitless. there was nothing to do butclose up shop.in 1940, as secretary of war, he had to reverse himself and acceptthe cryptanalyses of magic. but the international situation then wastotally different. \"in 1929,\" he himself has written, in the third person,\"the world was striving with good will for lasting peace, and in this effortall the nations were parties. stimson, as secretary of state, was dealingas a gentleman with the gentlemen sent as ambassadors and ministersfrom friendly nations. ...\" in 1940, europe was at war, and the unitedstates was on the verge.the signal corps, where william friedman had charge of cryptology.the staff quickly dispersed (none went to the army), and when the bookswere closed on october 31, 1929, the american black chamber hadperished. it had cost the state department $230,404 and the wardepartment $98,808.49—just under a third of a million dollars for adecade of cryptanalyis. yardley, whose job experience had been rather specialized, could notfind work, and he went back home to worthington. the depressionsucked him dry. by august of 1930, he had had to give up an apartmenthouse and a one-eighth interest in a real estate corporation; indeed, hecomplained that he had to sell nearly everything he owned \"for less thannothing.\" a few months later he was toying with the idea of writing thestory of the black chamber to make some money to feed his wife andtheir son, jack. when his old mi-8 friend, manly, with whom he hadbeen in contact all during the 1920's, had to turn down his request for a$2,500 loan at the end of january, 1931, yardley, in desperation, satdown to write what was to be the most famous book on cryptology everpublished.\n",
    "'''\n",
    "message_hash = '''548CBFF92190F168521A770F661764224921E95F38941687C195D20F144B1B6530694318A012251BE3A100080F17E551691E1C44A0766BAF95D2910C6CB0A66E'''\n",
    "message_hash_dec = '''4428232563573328322808497910242325417809376012751037103247231360870937302533867236736809449659870773493340745817044937726186350799563330584227981026174574'''"
   ]
  },
  {
   "cell_type": "code",
   "execution_count": 54,
   "metadata": {},
   "outputs": [
    {
     "name": "stdout",
     "output_type": "stream",
     "text": [
      "939\n",
      "Signature: (4428232563573328322808497910242325417809376012751037103247231360870937302533867236736809449659870773493340745817044937726186350799563330584227981026174574, mpz(512030129708037714962407547398867613019577800865641171669518398755323007128128205150200660256330825103891385173506529625719413162572220262687479955303263651976207117073573344090478040573763425964846762751394246393464848027618661345712576629399144316734611514263357573876017939210960448282468035604894175978329570072269603548694023070971496465075261519685055204576216565708033214411951594552129452369756891910248874564195639761812263634634268620396229098106941282440804960209446750510566861111470939377420997022218177537000863917348182023063437414021396842130706126740718584829556345934792909070223532888480839054436904976740123327751605965074702420102045657285936509568282476302906019919133711250634001918495656305928892230353636788326867775799161807927432945442281519072487718081299948814506353769917765230779343124375835137710788616042944361277945758614143468942258828864226387398304937449545426299326834332850233655511129006248360639410))\n",
      "Verification: True\n"
     ]
    }
   ],
   "source": [
    "pub_key, pr_key = generate_keypair(  \n",
    "663485503982840051637239612240183093741272987865474745753491976355304207718033936544739761170777927666998940911679259840350353365134349779738957185731029393345019612939760827904872443318757104549181822675256777150700020622325405236247783308691696793432979178237760318731271427147694114833743146994151057652100361571071222615936856316096109309457207713148783198680097140781911542083056203288112295402206839273857211274089281476706287632479013835458752504632589534007459069740696133685969463,   \n",
    "823929437732423386360736503572888686656995068848010526081479034811202588378297658426433768295863644412719529139545592991606024508943104229244988936581636358998909751027595538072681731679432627088404396000865137726688269650510390641412124414452502298256525785626556757678078656322950720023079995599317867629549199023743304251320386562570590624959556023494177576733578580744171679440074996567193887547708079156854880007678877802535204990865199267284393)\n",
    "\n",
    "signature = sign_message(pr_key, int(message_hash_dec))\n",
    "print(\"Signature:\", signature)\n",
    "\n",
    "print(\"Verification:\", verify_signature(pub_key, int(message_hash_dec), signature))"
   ]
  },
  {
   "cell_type": "code",
   "execution_count": 55,
   "metadata": {},
   "outputs": [
    {
     "name": "stdout",
     "output_type": "stream",
     "text": [
      "Signature: (mpz(20160358941324577769370836759343075758067213932576700319422408310631049850130935097415558022609704567186844777675703043950684403929184097244797194673874616104834358144421615879818278709867965801972254732347253682632491371164236533888268367829449738885975129777196935026908684890003362241983059639352435002184601563022363716831798372305633958092929894381111017110878118168697389919554884096121683576870365950963740298740293579136679641425271318532698817885380136402348417914039511544301208962516733492850075236955234985884286483924217287296836620591068322264963037219488799632727141281179240447585992185073212411350598), mpz(25014223750067361847380569162955292104456284816913649341581930334934126734182750915178152647874088472337526457057765121526151072347503609316375600595633515498993878747037197033458885498893576866046802852358197179251540670020227335574172095170512689403632353458146353516513446441802316458217763044342588219101500702716829666516216817637242007351381206410117395122771362038778059279800499924572452928237493321513596645240614056822914975550001191274542935275998428001081900938351835070395909345338349210272653374137232143502850477429937876188330458810136261643788927625902126489570625984266141631910440770210278659251468))\n",
      "Verification: True\n"
     ]
    }
   ],
   "source": [
    "p = mpz(32317006071311007300153513477825163362488057133489075174588434139269806834136210002792056362640164685458556357935330816928829023080573472625273554742461245741026202527916572972862706300325263428213145766931414223654220941111348629991657478268034230553086349050635557712219187890332729569696129743856241741236237225197346402691855797767976823014625397933058015226858730761197532436467475855460715043896844940366130497697812854295958659597567051283852132784468522925504568272879113720098931873959143374175837826000278034973198552060607533234122603254684088120031105907484281003994966956119696956248629032338072839127039)\n",
    "g = mpz(2)\n",
    "\n",
    "pub_key, pr_key = generate_key(p, g)\n",
    "\n",
    "signature = sign_message_elgamal(pr_key, int(message_hash_dec), p, g)\n",
    "print(\"Signature:\", signature)\n",
    "\n",
    "print(\"Verification:\", verify_signature_elgamal(pub_key, int(message_hash_dec), signature, p, g))\n",
    "\n"
   ]
  },
  {
   "cell_type": "code",
   "execution_count": null,
   "metadata": {},
   "outputs": [],
   "source": []
  },
  {
   "cell_type": "code",
   "execution_count": null,
   "metadata": {},
   "outputs": [],
   "source": []
  }
 ],
 "metadata": {
  "kernelspec": {
   "display_name": "virtenv",
   "language": "python",
   "name": "python3"
  },
  "language_info": {
   "codemirror_mode": {
    "name": "ipython",
    "version": 3
   },
   "file_extension": ".py",
   "mimetype": "text/x-python",
   "name": "python",
   "nbconvert_exporter": "python",
   "pygments_lexer": "ipython3",
   "version": "3.10.12"
  }
 },
 "nbformat": 4,
 "nbformat_minor": 2
}
