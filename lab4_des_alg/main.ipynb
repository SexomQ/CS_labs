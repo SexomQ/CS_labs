{
 "cells": [
  {
   "cell_type": "code",
   "execution_count": 7,
   "metadata": {},
   "outputs": [],
   "source": [
    "P = [\n",
    "    16, 7, 20, 21, \n",
    "    29, 12, 28, 17,\n",
    "    1, 15, 23, 26, \n",
    "    5, 18, 31, 10,\n",
    "    2, 8, 24, 14, \n",
    "    32, 27, 3, 9,\n",
    "    19, 13, 30, 6, \n",
    "    22, 11, 4, 25\n",
    "]"
   ]
  },
  {
   "cell_type": "code",
   "execution_count": 8,
   "metadata": {},
   "outputs": [],
   "source": [
    "def permute_P(input_block):\n",
    "    permuted_block = \"\"\n",
    "    for p in P:\n",
    "        permuted_block += input_block[p - 1]\n",
    "    return permuted_block\n",
    "\n"
   ]
  },
  {
   "cell_type": "code",
   "execution_count": 9,
   "metadata": {},
   "outputs": [
    {
     "name": "stdout",
     "output_type": "stream",
     "text": [
      "f using the P permutation table: 0010 0011 0100 1010 1010 1001 1011 1011\n",
      "Resulting Ri: 1110 1111 0100 1010 0110 0101 0100 0100\n"
     ]
    }
   ],
   "source": [
    "S_values = input(\"Enter S-values (32 bits): \")\n",
    "Li_minus_1 = input(\"Enter Li-1 (32 bits): \")\n",
    "\n",
    "if len(S_values) != 32 or len(Li_minus_1) != 32:\n",
    "    print(\"Both S-values and Li-1 should be 32 bits long.\")\n",
    "else:\n",
    "    f_permuted = permute_P(S_values)\n",
    "\n",
    "    f_permuted_with_blocks = ' '.join([f_permuted[i:i+4] for i in range(0, 32, 4)])\n",
    "\n",
    "    print(\"f using the P permutation table: \" + f_permuted_with_blocks)\n",
    "\n",
    "    Ri = \"\"\n",
    "    for i in range(32):\n",
    "        Ri += str(int(Li_minus_1[i]) ^ int(f_permuted[i]))\n",
    "\n",
    "    Ri_with_blocks = ' '.join([Ri[i:i+4] for i in range(0, 32, 4)])\n",
    "\n",
    "    print(\"Resulting Ri: \" + Ri_with_blocks)"
   ]
  },
  {
   "cell_type": "code",
   "execution_count": null,
   "metadata": {},
   "outputs": [],
   "source": []
  }
 ],
 "metadata": {
  "kernelspec": {
   "display_name": "Python 3",
   "language": "python",
   "name": "python3"
  },
  "language_info": {
   "codemirror_mode": {
    "name": "ipython",
    "version": 3
   },
   "file_extension": ".py",
   "mimetype": "text/x-python",
   "name": "python",
   "nbconvert_exporter": "python",
   "pygments_lexer": "ipython3",
   "version": "3.10.12"
  }
 },
 "nbformat": 4,
 "nbformat_minor": 2
}
